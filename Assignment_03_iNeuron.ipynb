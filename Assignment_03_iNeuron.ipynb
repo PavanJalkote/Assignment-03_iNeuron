{
  "nbformat": 4,
  "nbformat_minor": 0,
  "metadata": {
    "colab": {
      "provenance": []
    },
    "kernelspec": {
      "name": "python3",
      "display_name": "Python 3"
    },
    "language_info": {
      "name": "python"
    }
  },
  "cells": [
    {
      "cell_type": "markdown",
      "source": [
        "**1. Why are functions advantageous to have in your programs?**\n",
        "\n",
        "Ans: Functions are advantageous to have in programs in Python for several reasons:\n",
        "\n",
        "Reusability: Functions allow you to define a block of code that can be executed repeatedly in different parts of your program. This reusability saves you from writing the same code over and over again, reducing redundancy and improving maintainability.\n",
        "\n",
        "Modularity: Functions enable you to break down your program into smaller, self-contained modules. Each function can perform a specific task or solve a particular problem. By dividing your code into smaller functions, you can tackle complex problems by focusing on smaller, manageable parts.\n",
        "\n",
        "Abstraction: Functions allow you to abstract away the implementation details of a particular task. When you define a function, you encapsulate a series of instructions behind a meaningful name.\n",
        "\n",
        "Code maintainability: Functions make your code more maintainable by isolating different parts of your program. If you need to make changes or fix bugs, you can focus on a specific function rather than the entire program.\n",
        "\n",
        "Readability and organization: Functions promote clean and readable code. By giving meaningful names to functions, you make your code more self-explanatory and easier to understand.\n",
        "\n",
        "Code reuse across projects: Functions can be written once and reused across multiple projects. If you have a set of utility functions or helper functions that you commonly use, you can create a separate module or library and import it into different projects.\n"
      ],
      "metadata": {
        "id": "2tH1IYXJnAX_"
      }
    },
    {
      "cell_type": "markdown",
      "source": [
        "**2. When does the code in a function run: when it's specified or when it's called?**\n",
        "\n",
        "Ans: The code inside a function in Python runs when the function is called. When you define a function, you are essentially creating a reusable block of code that is not executed immediately. The code inside the function is executed only when the function is invoked or called."
      ],
      "metadata": {
        "id": "6zlWyfs-oEJI"
      }
    },
    {
      "cell_type": "markdown",
      "source": [
        "**3. What statement creates a function?**\n",
        "\n",
        "Ans:\n",
        "In Python, the def statement is used to create a function. The def statement is followed by the function name, parentheses (), and a colon :. The body of the function is indented below the def statement and consists of the code that will be executed when the function is called."
      ],
      "metadata": {
        "id": "rGjx8bXUoqrb"
      }
    },
    {
      "cell_type": "markdown",
      "source": [
        "**4. What is the difference between a function and a function call?**\n",
        "\n",
        "Ans:\n",
        "Function: A function is a named block of code that performs a specific task or carries out a particular operation. It is defined using the def statement and consists of a function name, parentheses, optional arguments, and a colon. The code inside the function is executed when the function is called.\n",
        "\n",
        "Function Call: A function call is the act of invoking or executing a function. It is when you use the function name followed by parentheses () to run the code inside the function."
      ],
      "metadata": {
        "id": "azmL9IqRpgFf"
      }
    },
    {
      "cell_type": "markdown",
      "source": [
        "**5. How many global scopes are there in a Python program? How many local scopes?**\n",
        "\n",
        "Ans:\n",
        "Global Scope: The global scope refers to the outermost level of the program, where variables and functions are defined outside of any function or class. It is accessible from anywhere within the program. The global scope exists throughout the entire execution of the program and is shared among all the modules, functions, and classes.\n",
        "\n",
        "Variables defined in the global scope are known as global variables and can be accessed from any part of the program. Functions defined in the global scope can be called from anywhere in the program.\n",
        "\n",
        "Local Scope: Local scopes, also known as function scopes or block scopes, are created whenever a function is called or a block of code (such as a loop or conditional statement) is entered. Each function call or block creates a new local scope. Local scopes are used to store variables and references specific to that function or block of code.\n",
        "\n",
        "Variables defined within a function or block have local scope, meaning they are only accessible within that function or block and its nested scopes. Local variables are created when the function or block is entered and cease to exist once the function or block execution is complete."
      ],
      "metadata": {
        "id": "88U6LnigqSnD"
      }
    },
    {
      "cell_type": "markdown",
      "source": [
        "**6. What happens to variables in a local scope when the function call returns?**\n",
        "\n",
        "Ans: When a function call returns in Python, the local scope of that function is destroyed, and any variables defined within that local scope cease to exist. This process is known as variable scope and lifetime management.\n",
        "\n",
        "Here's what happens to variables in a local scope when a function call returns:\n",
        "\n",
        "Variable Lifespan: The lifespan of a local variable begins when the function is called and its local scope is created. The variable exists and can be accessed and modified within the function's scope during its lifespan.\n",
        "\n",
        "Variable Destruction: When the function call returns, the local scope of the function is destroyed. At this point, any variables defined within that local scope are also destroyed, and their memory is released. The variables are no longer accessible or available for use outside the function.\n",
        "\n",
        "It's important to note that the destruction of local variables upon function return ensures that the memory they occupied is freed up for other purposes, optimizing memory usage in the program.\n",
        "\n",
        "Variable Inaccessibility: Once the local scope is destroyed, any attempt to access the variables defined within that local scope from outside the function will result in an error. The variables are confined to the local scope of the function and are not accessible from the global scope or other functions.\n",
        "\n",
        "If you need to preserve the value of a variable beyond the function call, you can return the value from the function and assign it to a variable in the calling scope."
      ],
      "metadata": {
        "id": "AHVPuhOwrZSz"
      }
    },
    {
      "cell_type": "markdown",
      "source": [
        "**7. What is the concept of a return value? Is it possible to have a return value in an expression?**\n",
        "\n",
        "Ans: The concept of a return value in Python refers to the value that a function sends back or returns to the calling code. When a function is executed, it may perform certain operations or calculations and produce a result. The return value allows the function to communicate that result back to the calling code, which can then use or process the returned value further.\n",
        "\n",
        "In Python, a return value is specified using the return statement within a function. The return statement is followed by the value or expression that the function wants to send back to the caller."
      ],
      "metadata": {
        "id": "C1veJypjuRnr"
      }
    },
    {
      "cell_type": "markdown",
      "source": [
        "**8. If a function does not have a return statement, what is the return value of a call to that function?**\n",
        "\n",
        "Ans:If a function in Python does not have a return statement, or if the return statement is without any value, the function will implicitly return None as its return value.\n",
        "\n",
        "None is a special built-in object in Python that represents the absence of a value. It is often used to indicate the lack of a meaningful result or when a function doesn't need to explicitly return anything."
      ],
      "metadata": {
        "id": "jVD7-ZArxzaP"
      }
    },
    {
      "cell_type": "markdown",
      "source": [
        "**9. How do you make a function variable refer to the global variable?**\n",
        "\n",
        "Ans: To make a function variable refer to a global variable in Python, you can use the global keyword within the function. The global keyword allows you to indicate that a variable is intended to refer to the global variable with the same name, rather than creating a new local variable within the function."
      ],
      "metadata": {
        "id": "lrdjjepGykj-"
      }
    },
    {
      "cell_type": "markdown",
      "source": [
        "**10. What is the data type of None?**\n",
        "\n",
        "Ans: The data type of None in Python is called NoneType. None is a special constant object representing the absence of a value or a null value."
      ],
      "metadata": {
        "id": "9KjXNOS_13C-"
      }
    },
    {
      "cell_type": "markdown",
      "source": [
        "**11. What does the sentence import areallyourpetsnamederic do?**\n",
        "\n",
        "Ans: The sentence \"import areallyourpetsnamederic\" is not a valid Python import statement, and it would raise a ModuleNotFoundError because there is no module named \"areallyourpetsnamederic\" in the Python standard library or any other installed modules.\n",
        "\n",
        "In Python, the import statement is used to bring modules or objects from modules into the current program's namespace, allowing you to access their functionality. However, the sentence \"import areallyourpetsnamederic\" does not correspond to a valid module name, and thus it would result in an error."
      ],
      "metadata": {
        "id": "CTaE-aCr2mdF"
      }
    },
    {
      "cell_type": "markdown",
      "source": [
        "**12. If you had a bacon() feature in a spam module, what would you call it after importing spam?**\n",
        "\n",
        "Ans: If you have a bacon() feature in a module named \"spam\" and you import the \"spam\" module, you can call the bacon() function."
      ],
      "metadata": {
        "id": "vlraP5Pl5JBV"
      }
    },
    {
      "cell_type": "markdown",
      "source": [
        "**13. What can you do to save a programme from crashing if it encounters an error?**\n",
        "\n",
        "Ans: To save a program from crashing when encountering an error, you can implement error handling techniques in Python. By using error handling, you can catch and handle exceptions that occur during program execution, preventing the program from abruptly terminating.\n",
        "\n",
        "Here are a few strategies for error handling in Python:\n",
        "\n",
        "Try-Except Block: Use a try-except block to catch and handle specific exceptions. Place the code that might raise an exception inside the try block, and specify the type of exception you want to handle in the except block. If an exception of that type occurs, the code within the except block will be executed, allowing you to gracefully handle the error.\n",
        "\n",
        "Finally Block: Optionally, you can include a finally block after the try-except block. The code within the finally block is executed regardless of whether an exception occurred or not. This block is typically used for tasks that should be executed regardless of the outcome, such as closing files or releasing resources.\n",
        "\n",
        "Logging: Implement logging to record error information or messages to a log file. The logging module in Python provides a flexible and configurable logging system. By logging relevant details about the error, you can analyze and debug issues more effectively.\n",
        "\n",
        "Graceful Handling: In some cases, you may want to handle specific errors in a way that allows the program to continue running. By catching the exception, taking appropriate actions (e.g., providing default values, displaying an error message), and continuing the program execution, you can prevent a crash and provide a fallback mechanism."
      ],
      "metadata": {
        "id": "9qS6b_Bc54m_"
      }
    },
    {
      "cell_type": "markdown",
      "source": [
        "**14. What is the purpose of the try clause? What is the purpose of the except clause?**\n",
        "\n",
        "Ans:\n",
        "The purpose of the try clause in Python is to enclose a block of code where you anticipate the occurrence of an exception. The code inside the try block is executed, and if any exception is raised during the execution, the control flow is transferred to the corresponding except clause.\n",
        "\n",
        "The purpose of the except clause is to specify the handling of specific exceptions that may occur within the try block. It allows you to catch and handle exceptions, preventing them from causing the program to crash. Each except clause can specify a particular type of exception it handles, and if an exception of that type occurs, the code inside the corresponding except block is executed."
      ],
      "metadata": {
        "id": "jAKm6Sa1_dfy"
      }
    }
  ]
}